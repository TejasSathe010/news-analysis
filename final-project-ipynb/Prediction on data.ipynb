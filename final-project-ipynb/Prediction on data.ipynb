{
 "cells": [
  {
   "cell_type": "code",
   "execution_count": 0,
   "metadata": {
    "application/vnd.databricks.v1+cell": {
     "cellMetadata": {
      "byteLimit": 2048000,
      "rowLimit": 10000
     },
     "inputWidgets": {},
     "nuid": "ef67f0da-a499-4f51-904d-6d1aa3e198d9",
     "showTitle": false,
     "title": ""
    }
   },
   "outputs": [],
   "source": [
    "from pyspark.ml import PipelineModel\n",
    "from pyspark.sql.functions import input_file_name"
   ]
  },
  {
   "cell_type": "code",
   "execution_count": 0,
   "metadata": {
    "application/vnd.databricks.v1+cell": {
     "cellMetadata": {
      "byteLimit": 2048000,
      "rowLimit": 10000
     },
     "inputWidgets": {},
     "nuid": "8baf49db-7c93-47a1-9c85-55a82e6cd148",
     "showTitle": false,
     "title": ""
    }
   },
   "outputs": [],
   "source": [
    "basePath = \"/FileStore/finalproject\""
   ]
  },
  {
   "cell_type": "code",
   "execution_count": 0,
   "metadata": {
    "application/vnd.databricks.v1+cell": {
     "cellMetadata": {
      "byteLimit": 2048000,
      "rowLimit": 10000
     },
     "inputWidgets": {},
     "nuid": "a24320db-c836-4793-aa2f-b1b03a3aa070",
     "showTitle": false,
     "title": ""
    }
   },
   "outputs": [],
   "source": [
    "load_fit_model = PipelineModel.load(basePath + \"/model\")"
   ]
  },
  {
   "cell_type": "code",
   "execution_count": 0,
   "metadata": {
    "application/vnd.databricks.v1+cell": {
     "cellMetadata": {
      "byteLimit": 2048000,
      "rowLimit": 10000
     },
     "inputWidgets": {},
     "nuid": "de987184-a092-4198-8b11-448d59f505bb",
     "showTitle": false,
     "title": ""
    }
   },
   "outputs": [
    {
     "output_type": "stream",
     "name": "stdout",
     "output_type": "stream",
     "text": [
      "+--------------------+--------------------+\n|           timestamp|                news|\n+--------------------+--------------------+\n|2024-05-05 02:00:...|Why has hiring pl...|\n|2024-05-05 02:00:...|Apple iPhone weak...|\n|2024-05-05 02:00:...|Read the wild ema...|\n|2024-05-05 02:00:...|Have the wheels c...|\n|2024-05-05 02:00:...|Chances Of Skydan...|\n|2024-05-05 02:00:...|Here's how much m...|\n|2024-05-05 02:00:...|Trump Media audit...|\n|2024-05-05 02:00:...|Microsoft ties ex...|\n|2024-05-05 02:00:...|Fed-Obsessed Trad...|\n|2024-05-05 02:00:...|Cybertruck owner ...|\n|2024-05-05 02:00:...|Carvana stock reb...|\n|2024-05-05 02:00:...|Apple remains Buf...|\n|2024-05-05 02:00:...|US loosens some e...|\n|2024-05-05 02:00:...|Walmart closes do...|\n|2024-05-05 02:00:...|Rue21 files for b...|\n|2024-05-05 02:00:...|Jack Dorsey's Blo...|\n|2024-05-05 02:00:...|Why Rivian Shares...|\n|2024-05-05 02:00:...|Google, Justice D...|\n|2024-05-05 02:00:...|Bay Area restaura...|\n|2024-05-05 02:00:...|25K Americans sta...|\n+--------------------+--------------------+\nonly showing top 20 rows\n\n"
     ]
    }
   ],
   "source": [
    "parquet_df = spark.read.parquet(basePath + \"/parquet_files\")\n",
    "\n",
    "# Show the contents of the DataFrame\n",
    "parquet_df.show()"
   ]
  },
  {
   "cell_type": "code",
   "execution_count": 0,
   "metadata": {
    "application/vnd.databricks.v1+cell": {
     "cellMetadata": {
      "byteLimit": 2048000,
      "rowLimit": 10000
     },
     "inputWidgets": {},
     "nuid": "10723a50-8828-45e1-a315-4ccf600eb291",
     "showTitle": false,
     "title": ""
    }
   },
   "outputs": [
    {
     "output_type": "stream",
     "name": "stdout",
     "output_type": "stream",
     "text": [
      "+--------------------+--------------------+--------------------+\n|           timestamp|                news|           file_path|\n+--------------------+--------------------+--------------------+\n|2024-05-05 02:00:...|Why has hiring pl...|dbfs:/FileStore/f...|\n|2024-05-05 02:00:...|Chances Of Skydan...|dbfs:/FileStore/f...|\n|2024-05-05 02:00:...|Apple iPhone weak...|dbfs:/FileStore/f...|\n|2024-05-05 02:00:...|Read the wild ema...|dbfs:/FileStore/f...|\n|2024-05-05 02:00:...|Have the wheels c...|dbfs:/FileStore/f...|\n+--------------------+--------------------+--------------------+\n\n"
     ]
    }
   ],
   "source": [
    "from pyspark.sql.functions import input_file_name\n",
    "\n",
    "# Read the Parquet files and add a column with the file path\n",
    "parquet_df = spark.read.parquet(basePath + \"/parquet_files\") \\\n",
    "                    .withColumn(\"file_path\", input_file_name())\n",
    "\n",
    "# Find the latest files based on the file path (assuming they are named with timestamps)\n",
    "latest_files_df = parquet_df.orderBy(\"file_path\", ascending=False).limit(5)\n",
    "\n",
    "# Show the contents of the DataFrame\n",
    "latest_files_df.show()\n"
   ]
  },
  {
   "cell_type": "code",
   "execution_count": 0,
   "metadata": {
    "application/vnd.databricks.v1+cell": {
     "cellMetadata": {
      "byteLimit": 2048000,
      "rowLimit": 10000
     },
     "inputWidgets": {},
     "nuid": "6366a88b-a3e2-4a0f-8ad3-da659f3e52f4",
     "showTitle": false,
     "title": ""
    }
   },
   "outputs": [],
   "source": [
    "titles_df = parquet_df.select(\"news\")\n",
    "\n",
    "predictions = load_fit_model.transform(titles_df)"
   ]
  },
  {
   "cell_type": "code",
   "execution_count": 0,
   "metadata": {
    "application/vnd.databricks.v1+cell": {
     "cellMetadata": {
      "byteLimit": 2048000,
      "rowLimit": 10000
     },
     "inputWidgets": {},
     "nuid": "d4282a1a-4c14-443b-95bc-eb793bbe86b4",
     "showTitle": false,
     "title": ""
    }
   },
   "outputs": [
    {
     "output_type": "stream",
     "name": "stdout",
     "output_type": "stream",
     "text": [
      "root\n |-- news: string (nullable = true)\n |-- words: array (nullable = true)\n |    |-- element: string (containsNull = true)\n |-- rawFeatures: vector (nullable = true)\n |-- features: vector (nullable = true)\n |-- rawPrediction: vector (nullable = true)\n |-- probability: vector (nullable = true)\n |-- prediction: double (nullable = false)\n\n+--------------------+--------------------+--------------------+--------------------+--------------------+--------------------+----------+\n|                news|               words|         rawFeatures|            features|       rawPrediction|         probability|prediction|\n+--------------------+--------------------+--------------------+--------------------+--------------------+--------------------+----------+\n|Why has hiring pl...|[why, has, hiring...|(4000,[32,344,508...|(4000,[32,344,508...|[-4.8559283100614...|[2.35646729616249...|       2.0|\n|Apple iPhone weak...|[apple, iphone, w...|(4000,[171,224,12...|(4000,[171,224,12...|[8.79094334364940...|[0.00872420525768...|       2.0|\n|Read the wild ema...|[read, the, wild,...|(4000,[2,17,57,12...|(4000,[2,17,57,12...|[22.4865112753085...|[0.99999999972176...|       0.0|\n|Have the wheels c...|[have, the, wheel...|(4000,[17,224,344...|(4000,[17,224,344...|[11.0292704835660...|[0.30066660973907...|       2.0|\n|Chances Of Skydan...|[chances, of, sky...|(4000,[20,495,633...|(4000,[20,495,633...|[2.57191688854620...|[6.40217161711175...|       2.0|\n|Here's how much m...|[here's, how, muc...|(4000,[338,643,70...|(4000,[338,643,70...|[7.91475338400174...|[0.44564525970107...|       2.0|\n|Trump Media audit...|[trump, media, au...|(4000,[840,894,16...|(4000,[840,894,16...|[23.5665653950873...|[0.99999999999999...|       0.0|\n|Microsoft ties ex...|[microsoft, ties,...|(4000,[592,897,13...|(4000,[592,897,13...|[24.5443299322242...|[0.99999999999999...|       0.0|\n|Fed-Obsessed Trad...|[fed-obsessed, tr...|(4000,[17,214,217...|(4000,[17,214,217...|[14.3204030914847...|[0.99993086170400...|       0.0|\n|Cybertruck owner ...|[cybertruck, owne...|(4000,[378,847,89...|(4000,[378,847,89...|[26.1187726027218...|[0.99999999997928...|       0.0|\n|Carvana stock reb...|[carvana, stock, ...|(4000,[193,409,49...|(4000,[193,409,49...|[3.97318931341689...|[3.40419275328034...|       1.0|\n|Apple remains Buf...|[apple, remains, ...|(4000,[55,605,667...|(4000,[55,605,667...|[25.4399644415324...|[0.99999999999999...|       0.0|\n|US loosens some e...|[us, loosens, som...|(4000,[17,145,344...|(4000,[17,145,344...|[9.90630757001109...|[0.05251416687759...|       2.0|\n|Walmart closes do...|[walmart, closes,...|(4000,[344,495,90...|(4000,[344,495,90...|[21.6617260231297...|[0.99999839899853...|       0.0|\n|Rue21 files for b...|[rue21, files, fo...|(4000,[193,344,12...|(4000,[193,344,12...|[26.3399445709917...|[0.99999999999998...|       0.0|\n|Jack Dorsey's Blo...|[jack, dorsey's, ...|(4000,[495,523,73...|(4000,[495,523,73...|[16.6616017654470...|[0.99999975644686...|       0.0|\n|Why Rivian Shares...|[why, rivian, sha...|(4000,[32,1364,17...|(4000,[32,1364,17...|[25.9008194925152...|[0.99999999999986...|       0.0|\n|Google, Justice D...|[google,, justice...|(4000,[17,371,120...|(4000,[17,371,120...|[23.1775884285603...|[0.99999999999999...|       0.0|\n|Bay Area restaura...|[bay, area, resta...|(4000,[408,585,12...|(4000,[408,585,12...|[17.1877788002051...|[0.92871990574701...|       0.0|\n|25K Americans sta...|[25k, americans, ...|(4000,[3,28,193,2...|(4000,[3,28,193,2...|[24.1044586334551...|[0.99999999999998...|       0.0|\n+--------------------+--------------------+--------------------+--------------------+--------------------+--------------------+----------+\nonly showing top 20 rows\n\n+--------------------+----------+\n|                news|prediction|\n+--------------------+----------+\n|Why has hiring pl...|       2.0|\n|Apple iPhone weak...|       2.0|\n|Read the wild ema...|       0.0|\n|Have the wheels c...|       2.0|\n|Chances Of Skydan...|       2.0|\n|Here's how much m...|       2.0|\n|Trump Media audit...|       0.0|\n|Microsoft ties ex...|       0.0|\n|Fed-Obsessed Trad...|       0.0|\n|Cybertruck owner ...|       0.0|\n|Carvana stock reb...|       1.0|\n|Apple remains Buf...|       0.0|\n|US loosens some e...|       2.0|\n|Walmart closes do...|       0.0|\n|Rue21 files for b...|       0.0|\n|Jack Dorsey's Blo...|       0.0|\n|Why Rivian Shares...|       0.0|\n|Google, Justice D...|       0.0|\n|Bay Area restaura...|       0.0|\n|25K Americans sta...|       0.0|\n+--------------------+----------+\nonly showing top 20 rows\n\n"
     ]
    }
   ],
   "source": [
    "# Check the schema of the predictions DataFrame\n",
    "predictions.printSchema()\n",
    "\n",
    "# Show the first few rows of the predictions DataFrame to see the column names and data\n",
    "predictions.show()\n",
    "\n",
    "# If the column name is different, use the correct column name for sentiment\n",
    "# For example, if the column name is 'prediction', use that instead\n",
    "predictions.select(\"news\", \"prediction\").show()\n"
   ]
  },
  {
   "cell_type": "code",
   "execution_count": 0,
   "metadata": {
    "application/vnd.databricks.v1+cell": {
     "cellMetadata": {
      "byteLimit": 2048000,
      "rowLimit": 10000
     },
     "inputWidgets": {},
     "nuid": "efb7b8f0-e01f-4d16-8cb5-9c977ed25a0a",
     "showTitle": false,
     "title": ""
    }
   },
   "outputs": [
    {
     "output_type": "display_data",
     "data": {
      "image/png": "[encoded data removed]"
     },
     "metadata": {
      "application/vnd.databricks.v1+output": {
       "addedWidgets": {},
       "arguments": {},
       "data": "data:image/png;base64,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\n",
       "datasetInfos": [],
       "metadata": {},
       "removedWidgets": [],
       "type": "image"
      }
     },
     "output_type": "display_data"
    }
   ],
   "source": [
    "import matplotlib.pyplot as plt\n",
    "\n",
    "# Extracting the predicted sentiments and their counts\n",
    "sentiment_counts = predictions.groupBy(\"prediction\").count().collect()\n",
    "sentiments = [row[\"prediction\"] for row in sentiment_counts]\n",
    "counts = [row[\"count\"] for row in sentiment_counts]\n",
    "\n",
    "# Plotting the bar plot\n",
    "plt.figure(figsize=(8, 6))\n",
    "plt.bar(sentiments, counts, color='skyblue')\n",
    "plt.xlabel('Sentiment')\n",
    "plt.ylabel('Count')\n",
    "plt.title('Distribution of Predicted Sentiments')\n",
    "plt.xticks(sentiments)  # Set x-axis ticks to match sentiment labels\n",
    "plt.show()\n"
   ]
  },
  {
   "cell_type": "code",
   "execution_count": 0,
   "metadata": {
    "application/vnd.databricks.v1+cell": {
     "cellMetadata": {
      "byteLimit": 2048000,
      "rowLimit": 10000
     },
     "inputWidgets": {},
     "nuid": "88f95503-ca99-4d8f-b62b-d35f31f6694c",
     "showTitle": false,
     "title": ""
    }
   },
   "outputs": [
    {
     "output_type": "display_data",
     "data": {
      "image/png": "[encoded data removed]"
     },
     "metadata": {
      "application/vnd.databricks.v1+output": {
       "addedWidgets": {},
       "arguments": {},
       "data": "data:image/png;base64,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\n",
       "datasetInfos": [],
       "metadata": {},
       "removedWidgets": [],
       "type": "image"
      }
     },
     "output_type": "display_data"
    }
   ],
   "source": [
    "sentiment_counts = predictions.groupBy(\"prediction\").count().collect()\n",
    "sentiments = [row[\"prediction\"] for row in sentiment_counts]\n",
    "counts = [row[\"count\"] for row in sentiment_counts]\n",
    "\n",
    "# Plotting a pie chart\n",
    "plt.figure(figsize=(8, 6))\n",
    "plt.pie(counts, labels=sentiments, autopct='%1.1f%%', colors=['skyblue', 'lightgreen', 'salmon'])\n",
    "plt.title('Distribution of Predicted Sentiments')\n",
    "plt.show()\n"
   ]
  },
  {
   "cell_type": "code",
   "execution_count": 0,
   "metadata": {
    "application/vnd.databricks.v1+cell": {
     "cellMetadata": {},
     "inputWidgets": {},
     "nuid": "8c80170b-1cbf-4ac6-b9ca-6fa10a2524ac",
     "showTitle": false,
     "title": ""
    }
   },
   "outputs": [],
   "source": []
  },
  {
   "cell_type": "code",
   "execution_count": 0,
   "metadata": {
    "application/vnd.databricks.v1+cell": {
     "cellMetadata": {},
     "inputWidgets": {},
     "nuid": "a7fde276-e8bd-4edd-b0c3-915dfabbf6d9",
     "showTitle": false,
     "title": ""
    }
   },
   "outputs": [],
   "source": []
  },
  {
   "cell_type": "code",
   "execution_count": 0,
   "metadata": {
    "application/vnd.databricks.v1+cell": {
     "cellMetadata": {},
     "inputWidgets": {},
     "nuid": "dfba498a-a794-4d99-9db3-d16eace69c65",
     "showTitle": false,
     "title": ""
    }
   },
   "outputs": [],
   "source": []
  },
  {
   "cell_type": "code",
   "execution_count": 0,
   "metadata": {
    "application/vnd.databricks.v1+cell": {
     "cellMetadata": {},
     "inputWidgets": {},
     "nuid": "90e72bb9-1754-4d8d-93a0-cb10108954b5",
     "showTitle": false,
     "title": ""
    }
   },
   "outputs": [],
   "source": []
  },
  {
   "cell_type": "code",
   "execution_count": 0,
   "metadata": {
    "application/vnd.databricks.v1+cell": {
     "cellMetadata": {
      "byteLimit": 2048000,
      "rowLimit": 10000
     },
     "inputWidgets": {},
     "nuid": "1379f01d-9e77-491d-8f16-95a15f20b5d9",
     "showTitle": false,
     "title": ""
    }
   },
   "outputs": [
    {
     "output_type": "stream",
     "name": "stdout",
     "output_type": "stream",
     "text": [
      "Out[23]: True"
     ]
    }
   ],
   "source": [
    "# Path to the folder you want to delete\n",
    "folder_path = \"/FileStore/finalproject/parquet_files\"\n",
    "\n",
    "# Recursively delete the folder\n",
    "dbutils.fs.rm(folder_path, recurse=True)"
   ]
  },
  {
   "cell_type": "code",
   "execution_count": 0,
   "metadata": {
    "application/vnd.databricks.v1+cell": {
     "cellMetadata": {
      "byteLimit": 2048000,
      "rowLimit": 10000
     },
     "inputWidgets": {},
     "nuid": "365ca337-e5d6-4a05-a4d7-38090bde6098",
     "showTitle": false,
     "title": ""
    }
   },
   "outputs": [
    {
     "output_type": "stream",
     "name": "stdout",
     "output_type": "stream",
     "text": [
      "Out[24]: True"
     ]
    }
   ],
   "source": [
    "# Path to the folder you want to delete\n",
    "folder_path = \"/FileStore/finalproject/checkpoint_location\"\n",
    "\n",
    "# Recursively delete the folder\n",
    "dbutils.fs.rm(folder_path, recurse=True)"
   ]
  },
  {
   "cell_type": "code",
   "execution_count": 0,
   "metadata": {
    "application/vnd.databricks.v1+cell": {
     "cellMetadata": {},
     "inputWidgets": {},
     "nuid": "9d45df4f-a7e5-4d35-98f2-25dde3a10c33",
     "showTitle": false,
     "title": ""
    }
   },
   "outputs": [],
   "source": []
  }
 ],
 "metadata": {
  "application/vnd.databricks.v1+notebook": {
   "dashboards": [],
   "language": "python",
   "notebookMetadata": {
    "pythonIndentUnit": 4
   },
   "notebookName": "Prediction on data",
   "widgets": {}
  }
 },
 "nbformat": 4,
 "nbformat_minor": 0
}
