{
 "cells": [
  {
   "cell_type": "code",
   "execution_count": 0,
   "metadata": {
    "application/vnd.databricks.v1+cell": {
     "cellMetadata": {
      "byteLimit": 2048000,
      "rowLimit": 10000
     },
     "inputWidgets": {},
     "nuid": "400088fd-437b-49ab-ab36-349e180594d4",
     "showTitle": false,
     "title": ""
    }
   },
   "outputs": [],
   "source": [
    "# Import necessary libraries\n",
    "import requests\n",
    "from pyspark.sql import SparkSession\n",
    "from pyspark.sql.functions import from_json\n",
    "import pyspark.sql.functions as F\n",
    "from pyspark.sql.functions import explode"
   ]
  },
  {
   "cell_type": "code",
   "execution_count": 0,
   "metadata": {
    "application/vnd.databricks.v1+cell": {
     "cellMetadata": {
      "byteLimit": 2048000,
      "rowLimit": 10000
     },
     "inputWidgets": {},
     "nuid": "12b45f1d-0a86-4bfe-a986-063047d5fa4c",
     "showTitle": false,
     "title": ""
    }
   },
   "outputs": [],
   "source": [
    "# Set up SparkSession\n",
    "spark = SparkSession.builder \\\n",
    "    .appName(\"NewsSentimentAnalysis\") \\\n",
    "    .getOrCreate()"
   ]
  },
  {
   "cell_type": "markdown",
   "metadata": {
    "application/vnd.databricks.v1+cell": {
     "cellMetadata": {},
     "inputWidgets": {},
     "nuid": "f62b03bc-6ff6-4326-affc-def0d872917a",
     "showTitle": false,
     "title": ""
    }
   },
   "source": [
    "If the current NewsAPI endpoint (X-Api-Key) reaches its daily request limit, we'll need to obtain a new API key (X-Api-Key) to ensure continued functionality."
   ]
  },
  {
   "cell_type": "code",
   "execution_count": 0,
   "metadata": {
    "application/vnd.databricks.v1+cell": {
     "cellMetadata": {
      "byteLimit": 2048000,
      "rowLimit": 10000
     },
     "inputWidgets": {},
     "nuid": "0d72f9cb-6fa8-43fa-8c36-d74b8293d9b6",
     "showTitle": false,
     "title": ""
    }
   },
   "outputs": [],
   "source": [
    "# Define a function to fetch financial news titles from NewsAPI\n",
    "def fetch_financial_news_titles():\n",
    "    url = \"https://newsapi.org/v2/top-headlines\"\n",
    "    headers = {\"X-Api-Key\": \"fcd47f104ff24845a960fe6371ef3f31\"}\n",
    "    params = {\n",
    "        \"category\": \"business\",  # Filter by business category for financial news\n",
    "        \"country\": \"us\",         # Adjust country as needed\n",
    "        \"pageSize\": 100          # Increase page size to get more results\n",
    "    }\n",
    "    response = requests.get(url, headers=headers, params=params)\n",
    "    if response.status_code == 200:\n",
    "        news_data = response.json()\n",
    "        if \"articles\" in news_data:\n",
    "            titles = [article['title'] for article in news_data['articles']]\n",
    "            print(titles)  # Print the fetched titles\n",
    "            return titles\n",
    "        else:\n",
    "            return None\n",
    "    else:\n",
    "        return None\n"
   ]
  },
  {
   "cell_type": "code",
   "execution_count": 0,
   "metadata": {
    "application/vnd.databricks.v1+cell": {
     "cellMetadata": {
      "byteLimit": 2048000,
      "rowLimit": 10000
     },
     "inputWidgets": {},
     "nuid": "2c50f171-d88f-4c3a-be0b-6456feab5e45",
     "showTitle": false,
     "title": ""
    }
   },
   "outputs": [
    {
     "output_type": "stream",
     "name": "stdout",
     "output_type": "stream",
     "text": [
      "200\n['Why has hiring plunged for white-collar jobs? - CBS News', 'Apple iPhone weakness in China is overdone, says Wells Fargo analyst - CNBC Television', 'Read the wild email Tesla is sending to suppliers amid Supercharger chaos - Electrek.co', 'Have the wheels come off for Tesla? - BBC.com', 'Chances Of Skydance Takeover Of Paramount Fades; Competing Sony Deal Reportedly Unlikely Too - TrekMovie', \"Here's how much money you'd have lost if you invested $1,000 in Peloton when it went public - CNBC\", 'Trump Media audit firm charged with fraud - Salon', 'Microsoft ties executive pay to security following multiple failures and breaches - Ars Technica', 'Fed-Obsessed Traders Need the Economy to Get Its Story Straight - Yahoo Finance', 'Cybertruck owner crushes finger with car door to prove odd point - SFGATE', 'Carvana stock rebound boosts fortunes of CEO and his dad by billions - Fox Business', \"Apple remains Buffett's biggest public stock holding, but his thesis about its moat faces questions - CNBC\", 'US loosens some electric vehicle battery rules, potentially making more EVs eligible for tax credits - The Associated Press', 'Walmart closes dozens of locations for this key service - TheStreet', 'Rue21 files for bankruptcy, will close all stores - Fox Business', \"Jack Dorsey's Block Will Reinvest 10% of Bitcoin Profits Into BTC - Decrypt\", 'Why Rivian Shares Popped Friday - Yahoo Finance', 'Google, Justice Department make final arguments about whether search engine is a monopoly - The Associated Press', 'Bay Area restaurants react to new Calif. law with anger, shock - SFGATE', '25K Americans starting Wegovy weekly as supply increases and prices drop, drugmaker says - Fox Business', 'Starbucks stock sees worst post-earnings performance since 2000 - Yahoo Finance', 'Coinbase knocked Q1 earnings out of the park—now comes the hard part - Fortune', \"Buy 'undervalued' Berkshire Hathaway shares ahead of 'Woodstock for Capitalists,' says CFRA - CNBC\", \"11-day nude cruise ready to set sail — but there's one time everyone has to cover up - New York Post \", 'Bitcoin’s Recent Weakness Is More Tied to Global Markets Than to Anything Crypto Specific, Coinbase Says - CoinDesk', 'Apple stock pops 6% after results top estimates, company reveals $110 billion buyback - Yahoo Finance', 'ExxonMobil completes acquisition of Pioneer Natural Resources - ExxonMobil', 'Treasuries Soar as Traders Pull Forward Fed Cuts After Jobs Miss - Bloomberg', 'Dow futures jump 500 points as weak jobs report sends yields lower: Live updates - CNBC', 'Stock market today: Stock futures surge after soft jobs report, Apple earnings triumph - Yahoo Finance', 'Truth Social keeps shrinking despite the Trump trial and looming election - CNN', \"Exclusive: The Inside Story Of Chime, America's Biggest Digital Bank - Forbes\", 'Novo Slides as Amgen Fuels Obesity Drug Competition Fears - Bloomberg', 'E. Coli recalls: See map of recalled ground beef and walnuts - USA TODAY', 'Amazon Wins a New Street-High Price Target - TipRanks.com - TipRanks']\nOut[22]: ['Why has hiring plunged for white-collar jobs? - CBS News',\n 'Apple iPhone weakness in China is overdone, says Wells Fargo analyst - CNBC Television',\n 'Read the wild email Tesla is sending to suppliers amid Supercharger chaos - Electrek.co',\n 'Have the wheels come off for Tesla? - BBC.com',\n 'Chances Of Skydance Takeover Of Paramount Fades; Competing Sony Deal Reportedly Unlikely Too - TrekMovie',\n \"Here's how much money you'd have lost if you invested $1,000 in Peloton when it went public - CNBC\",\n 'Trump Media audit firm charged with fraud - Salon',\n 'Microsoft ties executive pay to security following multiple failures and breaches - Ars Technica',\n 'Fed-Obsessed Traders Need the Economy to Get Its Story Straight - Yahoo Finance',\n 'Cybertruck owner crushes finger with car door to prove odd point - SFGATE',\n 'Carvana stock rebound boosts fortunes of CEO and his dad by billions - Fox Business',\n \"Apple remains Buffett's biggest public stock holding, but his thesis about its moat faces questions - CNBC\",\n 'US loosens some electric vehicle battery rules, potentially making more EVs eligible for tax credits - The Associated Press',\n 'Walmart closes dozens of locations for this key service - TheStreet',\n 'Rue21 files for bankruptcy, will close all stores - Fox Business',\n \"Jack Dorsey's Block Will Reinvest 10% of Bitcoin Profits Into BTC - Decrypt\",\n 'Why Rivian Shares Popped Friday - Yahoo Finance',\n 'Google, Justice Department make final arguments about whether search engine is a monopoly - The Associated Press',\n 'Bay Area restaurants react to new Calif. law with anger, shock - SFGATE',\n '25K Americans starting Wegovy weekly as supply increases and prices drop, drugmaker says - Fox Business',\n 'Starbucks stock sees worst post-earnings performance since 2000 - Yahoo Finance',\n 'Coinbase knocked Q1 earnings out of the park—now comes the hard part - Fortune',\n \"Buy 'undervalued' Berkshire Hathaway shares ahead of 'Woodstock for Capitalists,' says CFRA - CNBC\",\n \"11-day nude cruise ready to set sail — but there's one time everyone has to cover up - New York Post \",\n 'Bitcoin’s Recent Weakness Is More Tied to Global Markets Than to Anything Crypto Specific, Coinbase Says - CoinDesk',\n 'Apple stock pops 6% after results top estimates, company reveals $110 billion buyback - Yahoo Finance',\n 'ExxonMobil completes acquisition of Pioneer Natural Resources - ExxonMobil',\n 'Treasuries Soar as Traders Pull Forward Fed Cuts After Jobs Miss - Bloomberg',\n 'Dow futures jump 500 points as weak jobs report sends yields lower: Live updates - CNBC',\n 'Stock market today: Stock futures surge after soft jobs report, Apple earnings triumph - Yahoo Finance',\n 'Truth Social keeps shrinking despite the Trump trial and looming election - CNN',\n \"Exclusive: The Inside Story Of Chime, America's Biggest Digital Bank - Forbes\",\n 'Novo Slides as Amgen Fuels Obesity Drug Competition Fears - Bloomberg',\n 'E. Coli recalls: See map of recalled ground beef and walnuts - USA TODAY',\n 'Amazon Wins a New Street-High Price Target - TipRanks.com - TipRanks']"
     ]
    }
   ],
   "source": [
    "fetch_financial_news_titles()"
   ]
  },
  {
   "cell_type": "code",
   "execution_count": 0,
   "metadata": {
    "application/vnd.databricks.v1+cell": {
     "cellMetadata": {
      "byteLimit": 2048000,
      "rowLimit": 10000
     },
     "inputWidgets": {},
     "nuid": "a4b58aa4-9637-47e5-af91-514157fb6690",
     "showTitle": false,
     "title": ""
    }
   },
   "outputs": [],
   "source": [
    "# Define a UDF (User Defined Function) to fetch financial news titles periodically\n",
    "fetch_news_udf = F.udf(fetch_financial_news_titles, \"array<string>\")"
   ]
  },
  {
   "cell_type": "code",
   "execution_count": 0,
   "metadata": {
    "application/vnd.databricks.v1+cell": {
     "cellMetadata": {},
     "inputWidgets": {},
     "nuid": "5de0fa26-d6bc-445c-bfe0-dc677c4ff984",
     "showTitle": false,
     "title": ""
    }
   },
   "outputs": [],
   "source": [
    "# Schedule the function to run once per day at a specific time\n",
    "schedule.every().day.at(\"08:00\").do(fetch_financial_news_titles)"
   ]
  },
  {
   "cell_type": "code",
   "execution_count": 0,
   "metadata": {
    "application/vnd.databricks.v1+cell": {
     "cellMetadata": {
      "byteLimit": 2048000,
      "rowLimit": 10000
     },
     "inputWidgets": {},
     "nuid": "8e35ab8c-6c2a-4820-b245-88e3224659a6",
     "showTitle": false,
     "title": ""
    }
   },
   "outputs": [
    {
     "output_type": "stream",
     "name": "stdout",
     "output_type": "stream",
     "text": [
      "Out[24]: <function __main__.fetch_financial_news_titles()>"
     ]
    }
   ],
   "source": [
    "fetch_news_udf"
   ]
  },
  {
   "cell_type": "code",
   "execution_count": 0,
   "metadata": {
    "application/vnd.databricks.v1+cell": {
     "cellMetadata": {
      "byteLimit": 2048000,
      "rowLimit": 10000
     },
     "inputWidgets": {},
     "nuid": "5564ca78-46cd-4423-aef0-78e5927c66d7",
     "showTitle": false,
     "title": ""
    }
   },
   "outputs": [],
   "source": [
    "news_df = spark.readStream \\\n",
    "    .format(\"rate\") \\\n",
    "    .option(\"rowsPerSecond\", 1) \\\n",
    "    .load() \\\n",
    "    .withColumn(\"news\", fetch_news_udf())"
   ]
  },
  {
   "cell_type": "code",
   "execution_count": 0,
   "metadata": {
    "application/vnd.databricks.v1+cell": {
     "cellMetadata": {
      "byteLimit": 2048000,
      "rowLimit": 10000
     },
     "inputWidgets": {},
     "nuid": "3f8ee187-e790-4ae2-8128-e639aa9ce078",
     "showTitle": false,
     "title": ""
    }
   },
   "outputs": [],
   "source": [
    "exploded_df = news_df.select(\"timestamp\", explode(\"news\").alias(\"news\"))"
   ]
  },
  {
   "cell_type": "code",
   "execution_count": 0,
   "metadata": {
    "application/vnd.databricks.v1+cell": {
     "cellMetadata": {
      "byteLimit": 2048000,
      "rowLimit": 10000
     },
     "inputWidgets": {},
     "nuid": "686e8543-1c8b-48f4-a17b-81264d4ebfdb",
     "showTitle": false,
     "title": ""
    }
   },
   "outputs": [
    {
     "output_type": "display_data",
     "data": {
      "text/html": [
       "<style scoped>\n",
       "  .ansiout {\n",
       "    display: block;\n",
       "    unicode-bidi: embed;\n",
       "    white-space: pre-wrap;\n",
       "    word-wrap: break-word;\n",
       "    word-break: break-all;\n",
       "    font-family: \"Menlo\", \"Monaco\", \"Consolas\", \"Ubuntu Mono\", \"Source Code Pro\", monospace;\n",
       "    font-size: 13px;\n",
       "    color: #555;\n",
       "    margin-left: 4px;\n",
       "    line-height: 19px;\n",
       "  }\n",
       "</style>"
      ]
     },
     "metadata": {
      "application/vnd.databricks.v1+output": {
       "arguments": {},
       "data": "",
       "errorSummary": "Cancelled",
       "errorTraceType": "html",
       "metadata": {},
       "type": "ipynbError"
      }
     },
     "output_type": "display_data"
    }
   ],
   "source": [
    "# Start the streaming query and write to Parquet files\n",
    "query = exploded_df.writeStream \\\n",
    "    .outputMode(\"append\") \\\n",
    "    .format(\"parquet\") \\\n",
    "    .option(\"checkpointLocation\", \"/FileStore/finalproject/checkpoint_location\") \\\n",
    "    .option(\"path\", \"/FileStore/finalproject/parquet_files\") \\\n",
    "    .start()\n",
    "\n",
    "query.awaitTermination()"
   ]
  },
  {
   "cell_type": "code",
   "execution_count": 0,
   "metadata": {
    "application/vnd.databricks.v1+cell": {
     "cellMetadata": {},
     "inputWidgets": {},
     "nuid": "46d0e45c-09ef-456b-9619-9f55e901b108",
     "showTitle": false,
     "title": ""
    }
   },
   "outputs": [],
   "source": []
  }
 ],
 "metadata": {
  "application/vnd.databricks.v1+notebook": {
   "dashboards": [],
   "language": "python",
   "notebookMetadata": {
    "pythonIndentUnit": 4
   },
   "notebookName": "Loading & Storing Data",
   "widgets": {}
  }
 },
 "nbformat": 4,
 "nbformat_minor": 0
}
